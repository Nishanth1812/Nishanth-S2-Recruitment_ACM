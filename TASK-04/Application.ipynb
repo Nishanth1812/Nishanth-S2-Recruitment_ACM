{
 "cells": [
  {
   "cell_type": "code",
   "execution_count": 1,
   "metadata": {},
   "outputs": [],
   "source": [
    "# importing the pytorch module\n",
    "import torch"
   ]
  },
  {
   "cell_type": "markdown",
   "metadata": {},
   "source": [
    "***1.) Matrix Multiplication and Autograd***"
   ]
  },
  {
   "cell_type": "markdown",
   "metadata": {},
   "source": [
    "**Matrix Multiplication**"
   ]
  },
  {
   "cell_type": "code",
   "execution_count": 2,
   "metadata": {},
   "outputs": [
    {
     "name": "stdout",
     "output_type": "stream",
     "text": [
      "Tensor 1:  tensor([[0.0557, 0.6270, 0.7545],\n",
      "        [0.3476, 0.9431, 0.3230],\n",
      "        [0.2479, 0.8056, 0.4718]], requires_grad=True)\n",
      "Tensor 2:  tensor([[0.2033, 0.9192, 0.3177],\n",
      "        [0.4051, 0.2971, 0.3533],\n",
      "        [0.6528, 0.5976, 0.8884]])\n"
     ]
    }
   ],
   "source": [
    "# Creating 2 3x3 tensors using torch.rand \n",
    "t_1=torch.rand((3,3),requires_grad=True)\n",
    "t_2=torch.rand((3,3))\n",
    "\n",
    "# printing the tensors\n",
    "print(\"Tensor 1: \",t_1)\n",
    "\n",
    "print(\"Tensor 2: \",t_2)"
   ]
  },
  {
   "cell_type": "code",
   "execution_count": 3,
   "metadata": {},
   "outputs": [
    {
     "name": "stdout",
     "output_type": "stream",
     "text": [
      "Resultant Tensor: tensor([[0.7579, 0.6884, 0.9095],\n",
      "        [0.6636, 0.7927, 0.7306],\n",
      "        [0.6847, 0.7491, 0.7825]], grad_fn=<MmBackward0>)\n"
     ]
    }
   ],
   "source": [
    "# Multiplying the 2 tensors created above\n",
    "res=torch.mm(t_1,t_2)\n",
    "\n",
    "# printing the resultant tensor\n",
    "print(\"Resultant Tensor:\",res)"
   ]
  },
  {
   "cell_type": "code",
   "execution_count": 4,
   "metadata": {},
   "outputs": [
    {
     "name": "stdout",
     "output_type": "stream",
     "text": [
      "Gradient of t_1:  tensor([[1.4402, 1.0554, 2.1387],\n",
      "        [1.4402, 1.0554, 2.1387],\n",
      "        [1.4402, 1.0554, 2.1387]])\n"
     ]
    }
   ],
   "source": [
    "# Computing the gradient of the resultant tensor with respect to one of the input tensors\n",
    "res_sum=res.sum()\n",
    "res_sum.backward()\n",
    "\n",
    "# printing the gradient of t_1\n",
    "print(\"Gradient of t_1: \", t_1.grad)"
   ]
  },
  {
   "cell_type": "markdown",
   "metadata": {},
   "source": [
    "**Explanation on how Autograd calculates the gradient**\n",
    "\n",
    "-> Autograd computes the gradient by tracking operations performed on tensors. \n",
    "\n",
    "-> When we call the  backward() function it uses the chain rule of differentiation to calculate the gradients of the tensor"
   ]
  },
  {
   "cell_type": "markdown",
   "metadata": {},
   "source": [
    "***2.) Broadcasting***"
   ]
  },
  {
   "cell_type": "code",
   "execution_count": 5,
   "metadata": {},
   "outputs": [
    {
     "name": "stdout",
     "output_type": "stream",
     "text": [
      "Tensor 3:  tensor([[0.5307],\n",
      "        [0.9225],\n",
      "        [0.0674]], requires_grad=True)\n",
      "Tensor 4:  tensor([[0.2814, 0.2794, 0.7158]], requires_grad=True)\n"
     ]
    }
   ],
   "source": [
    "# Creating a 3x1 tensor\n",
    "t_3=torch.rand((3,1),requires_grad=True)\n",
    "\n",
    "# Creating a 1x3 tensor\n",
    "t_4=torch.rand((1,3),requires_grad=True)\n",
    "\n",
    "# Printing the tensors\n",
    "print(\"Tensor 3: \",t_3)\n",
    "print(\"Tensor 4: \",t_4)"
   ]
  },
  {
   "cell_type": "code",
   "execution_count": 7,
   "metadata": {},
   "outputs": [
    {
     "name": "stdout",
     "output_type": "stream",
     "text": [
      "Resultant Tensor 2:  tensor([[0.8121, 0.8102, 1.2465],\n",
      "        [1.2039, 1.2019, 1.6383],\n",
      "        [0.3488, 0.3468, 0.7832]], grad_fn=<AddBackward0>)\n"
     ]
    }
   ],
   "source": [
    "# Adding the 2 tensors using broadcasting\n",
    "res_2=t_3+t_4\n",
    "\n",
    "# printing the result\n",
    "print(\"Resultant Tensor 2: \",res_2)"
   ]
  },
  {
   "cell_type": "code",
   "execution_count": 9,
   "metadata": {},
   "outputs": [
    {
     "name": "stdout",
     "output_type": "stream",
     "text": [
      "Final Result:  tensor([[0.6885, 0.7382, 2.2931],\n",
      "        [0.9681, 1.0716, 3.1952],\n",
      "        [0.3577, 0.3439, 1.2261]], grad_fn=<MmBackward0>)\n"
     ]
    }
   ],
   "source": [
    "# Creating another 3x3 tensor\n",
    "t_5=torch.rand((3,3),requires_grad=True)\n",
    "\n",
    "# Multiplying the second resultant tensor with the new tensor\n",
    "final_res=torch.mm(res_2,t_5)\n",
    "\n",
    "# printing the final result\n",
    "print(\"Final Result: \",final_res)"
   ]
  },
  {
   "cell_type": "markdown",
   "metadata": {},
   "source": [
    "**Explanation on what is broadcasting and how it works in this case**\n",
    "\n",
    "-> broadcasting refers to the ability of tensors with different shapes to be automatically expanded to a common shape during arithmetic operations.\n",
    "\n",
    "-> In this case the tensors t_3 (3x1) and t_4 (1x3) get automatically expanded into 3x3 tensors to be compaitable for addition."
   ]
  },
  {
   "cell_type": "markdown",
   "metadata": {},
   "source": [
    "***3.) Reshaping and Slicing***"
   ]
  },
  {
   "cell_type": "code",
   "execution_count": 12,
   "metadata": {},
   "outputs": [
    {
     "name": "stdout",
     "output_type": "stream",
     "text": [
      "Tensor 6:  tensor([[0.6673, 0.4163, 0.6394, 0.4585],\n",
      "        [0.9413, 0.1309, 0.2875, 0.0684],\n",
      "        [0.6105, 0.4686, 0.9550, 0.2350],\n",
      "        [0.2911, 0.1995, 0.9544, 0.9413],\n",
      "        [0.5130, 0.5733, 0.0330, 0.6046],\n",
      "        [0.4963, 0.0391, 0.9989, 0.6641]], requires_grad=True)\n"
     ]
    }
   ],
   "source": [
    "# Creating a tensor of size 6x4\n",
    "t_6=torch.rand((6,4),requires_grad=True)\n",
    "\n",
    "# Printing the tensor\n",
    "print(\"Tensor 6: \",t_6)"
   ]
  },
  {
   "cell_type": "code",
   "execution_count": 13,
   "metadata": {},
   "outputs": [
    {
     "name": "stdout",
     "output_type": "stream",
     "text": [
      "Reshaped Tensor 6:  tensor([[0.6673, 0.4163, 0.6394, 0.4585, 0.9413, 0.1309, 0.2875, 0.0684],\n",
      "        [0.6105, 0.4686, 0.9550, 0.2350, 0.2911, 0.1995, 0.9544, 0.9413],\n",
      "        [0.5130, 0.5733, 0.0330, 0.6046, 0.4963, 0.0391, 0.9989, 0.6641]],\n",
      "       grad_fn=<ViewBackward0>)\n"
     ]
    }
   ],
   "source": [
    "# Reshaping the tensor t_6 to a 3x8 tensor\n",
    "t_6_reshaped=t_6.view(3,8)\n",
    "\n",
    "# Printing the reshaped tensor\n",
    "print(\"Reshaped Tensor 6: \",t_6_reshaped)"
   ]
  },
  {
   "cell_type": "code",
   "execution_count": 15,
   "metadata": {},
   "outputs": [
    {
     "name": "stdout",
     "output_type": "stream",
     "text": [
      "Slice 1:  tensor([[0.9550, 0.2350, 0.2911, 0.1995],\n",
      "        [0.0330, 0.6046, 0.4963, 0.0391]], grad_fn=<SliceBackward0>)\n",
      "Slice 2:  tensor([[0.6673, 0.4163],\n",
      "        [0.6105, 0.4686],\n",
      "        [0.5130, 0.5733]], grad_fn=<SliceBackward0>)\n"
     ]
    }
   ],
   "source": [
    "# Extracting a slice of the tensor \n",
    "slice_1=t_6_reshaped[1:3,2:6] # Extracting the 2nd and 3rd row and 3rd to 6th column\n",
    "slice_2=t_6_reshaped[:,:2] # Extracting all rows and first 2 columns \n",
    "\n",
    "# Printing the slices\n",
    "print(\"Slice 1: \",slice_1)\n",
    "print(\"Slice 2: \",slice_2)"
   ]
  },
  {
   "cell_type": "markdown",
   "metadata": {},
   "source": [
    "**Explanation on what Reshaping does and how slicing helps to extract specific parts of a tensor**\n",
    "\n",
    "**Reshaping**\n",
    "\n",
    "-> reshaping changes the shape of a tensor while preserving data.\n",
    "\n",
    "-> In this case, The tensor6 (6x4) is reshaped to reshaped_tensor (3x8)\n",
    "\n",
    "\n",
    "**Slicing**\n",
    "\n",
    "-> Whereas Slicing allows extracting specific parts of a tensor using index ranges.\n",
    "\n",
    "-> In this case , we are extracting \n",
    "\n",
    "    i.) The 2nd and 3rd row and 3rd to 6th column of the tensor\n",
    "\n",
    "    ii.) the first two columns across all rows\n"
   ]
  },
  {
   "cell_type": "code",
   "execution_count": null,
   "metadata": {},
   "outputs": [],
   "source": []
  }
 ],
 "metadata": {
  "kernelspec": {
   "display_name": "Python 3",
   "language": "python",
   "name": "python3"
  },
  "language_info": {
   "codemirror_mode": {
    "name": "ipython",
    "version": 3
   },
   "file_extension": ".py",
   "mimetype": "text/x-python",
   "name": "python",
   "nbconvert_exporter": "python",
   "pygments_lexer": "ipython3",
   "version": "3.12.5"
  }
 },
 "nbformat": 4,
 "nbformat_minor": 2
}
